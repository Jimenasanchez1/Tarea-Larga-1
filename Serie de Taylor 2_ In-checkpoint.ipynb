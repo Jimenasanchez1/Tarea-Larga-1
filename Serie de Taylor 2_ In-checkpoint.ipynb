{
 "cells": [
  {
   "cell_type": "code",
   "execution_count": 3,
   "id": "d5e085a0",
   "metadata": {},
   "outputs": [
    {
     "data": {
      "text/plain": [
       "-40.0"
      ]
     },
     "execution_count": 3,
     "metadata": {},
     "output_type": "execute_result"
    }
   ],
   "source": [
    "def my_ln (n, x):\n",
    "    \"\"\"Esta función obtiene el logaritmo de x en orden n\"\"\"\n",
    "    i=1\n",
    "    logt= 0\n",
    "    for i in range (i ,n+1): #se utiliza un ciclo for dando el rango de i que es 1 hasta n + 1\n",
    "        \n",
    "        prim= (-1)*(i+1) #aquí se realiza la primera parte de la función que es (-1)*i+1 \n",
    "        seg=(x*i)/i  #seguimos con la segunda parte de la función que es (x*i)/i\n",
    "        mult=prim* seg   #al tener el resultado de la primer y segunda parte de la función se obtiene el producto de estos\n",
    "    \n",
    "        logt= logt + mult  #se realiza la sumatoria del producto obtenido de la primer y segunda parte de la función hasta el rango indicado\n",
    "    \n",
    "    return logt\n",
    "my_ln(5,2)"
   ]
  },
  {
   "cell_type": "code",
   "execution_count": null,
   "id": "35c29b1a",
   "metadata": {},
   "outputs": [],
   "source": []
  }
 ],
 "metadata": {
  "kernelspec": {
   "display_name": "Python 3",
   "language": "python",
   "name": "python3"
  },
  "language_info": {
   "codemirror_mode": {
    "name": "ipython",
    "version": 3
   },
   "file_extension": ".py",
   "mimetype": "text/x-python",
   "name": "python",
   "nbconvert_exporter": "python",
   "pygments_lexer": "ipython3",
   "version": "3.8.8"
  }
 },
 "nbformat": 4,
 "nbformat_minor": 5
}

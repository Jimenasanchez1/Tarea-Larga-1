{
 "cells": [
  {
   "cell_type": "code",
   "execution_count": 1,
   "id": "9c5df326",
   "metadata": {},
   "outputs": [
    {
     "name": "stdout",
     "output_type": "stream",
     "text": [
      "Resultado con la funcion_exponencial: 7.389056098930649\n",
      "Resultado con la funcion math.exp 7.38905609893065\n"
     ]
    }
   ],
   "source": [
    "import math\n",
    "\n",
    "def funcion_exponencial(x):\n",
    "    suma=0\n",
    "    \n",
    "    for n in range(0, 50):\n",
    "        suma += math.pow(x, n) / math.factorial(n)\n",
    "        \n",
    "    return suma\n",
    "\n",
    "print('Resultado con la funcion_exponencial:', funcion_exponencial(2))\n",
    "print('Resultado con la funcion math.exp', math.exp(2))"
   ]
  },
  {
   "cell_type": "code",
   "execution_count": null,
   "id": "dff1224e",
   "metadata": {},
   "outputs": [],
   "source": []
  }
 ],
 "metadata": {
  "kernelspec": {
   "display_name": "Python 3",
   "language": "python",
   "name": "python3"
  },
  "language_info": {
   "codemirror_mode": {
    "name": "ipython",
    "version": 3
   },
   "file_extension": ".py",
   "mimetype": "text/x-python",
   "name": "python",
   "nbconvert_exporter": "python",
   "pygments_lexer": "ipython3",
   "version": "3.8.8"
  }
 },
 "nbformat": 4,
 "nbformat_minor": 5
}

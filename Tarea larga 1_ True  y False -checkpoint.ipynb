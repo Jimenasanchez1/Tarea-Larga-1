{
 "cells": [
  {
   "cell_type": "code",
   "execution_count": 3,
   "id": "c6836efc",
   "metadata": {},
   "outputs": [],
   "source": [
    "def is_prime(p):\n",
    "    \n",
    "    prime= True\n",
    "    i=2\n",
    "    \n",
    "    while i<p:\n",
    "        residuo=division (p, i) [1]\n",
    "        if residuo==0:\n",
    "            prime=False\n",
    "            break\n",
    "        else:\n",
    "           i=i+1\n",
    "    return prime"
   ]
  },
  {
   "cell_type": "code",
   "execution_count": null,
   "id": "0b859120",
   "metadata": {},
   "outputs": [],
   "source": [
    "def isPrime(num):\n",
    "    if num < 1:\n",
    "        return False\n",
    "    elif num == 2:\n",
    "        return True\n",
    "    else:\n",
    "        for i in range(2, num):\n",
    "            if num % i == 0:\n",
    "                return False\n",
    "        return True            \n",
    "\n",
    "def app():\n",
    "    num = int(input('Write a number: '))\n",
    "    result = isPrime(num)\n",
    "\n",
    "if __name__ == '__main__':\n",
    "    app()"
   ]
  },
  {
   "cell_type": "code",
   "execution_count": null,
   "id": "ae7003d9",
   "metadata": {},
   "outputs": [],
   "source": []
  }
 ],
 "metadata": {
  "kernelspec": {
   "display_name": "Python 3",
   "language": "python",
   "name": "python3"
  },
  "language_info": {
   "codemirror_mode": {
    "name": "ipython",
    "version": 3
   },
   "file_extension": ".py",
   "mimetype": "text/x-python",
   "name": "python",
   "nbconvert_exporter": "python",
   "pygments_lexer": "ipython3",
   "version": "3.8.8"
  }
 },
 "nbformat": 4,
 "nbformat_minor": 5
}
